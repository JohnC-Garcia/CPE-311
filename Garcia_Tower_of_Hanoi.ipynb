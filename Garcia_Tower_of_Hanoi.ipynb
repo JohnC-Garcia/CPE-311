{
  "nbformat": 4,
  "nbformat_minor": 0,
  "metadata": {
    "colab": {
      "provenance": []
    },
    "kernelspec": {
      "name": "python3",
      "display_name": "Python 3"
    },
    "language_info": {
      "name": "python"
    }
  },
  "cells": [
    {
      "cell_type": "code",
      "source": [
        "class tower():\n",
        "  def TOH( n,  Sour, Aux , Des):\n",
        "    if(n==1):\n",
        "      print(f\"Move Disk\", {n} ,\" from rod \", {Sour} ,\" to rod \",{Des})\n",
        "    else:\n",
        "      TOH(n-1,Sour,Des,Aux);\n",
        "      print(\"Move Disk\", {n} ,\" from rod \", {Sour} ,\" to rod \",{Des})\n",
        "      TOH(n-1,Aux,Sour,Des);\n",
        "\n",
        "  def interf(self):\n",
        "    print(\"Welcome to the Tower of Hanoi solution generator!\")\n",
        "    Source = input(\"What is the name of the left rod? \\n-\")\n",
        "    Auxilliary = input(\"What is the name of the middle rod? \\n-\")\n",
        "    Destination = input(\"What is the name of the right rod? \\n-\")\n",
        "    num = int(input(\"How many disks are there? \"))\n",
        "    print(f\"Assuming that the disks are on rod\", {Source}, \", the solution is: \")\n",
        "    tower.TOH(num, Source, Auxilliary, Destination)\n",
        "\n",
        "tower1 = tower()\n",
        "tower1.interf()"
      ],
      "metadata": {
        "colab": {
          "base_uri": "https://localhost:8080/"
        },
        "id": "otOlVZG3MaQs",
        "outputId": "f205e12e-65ad-44b5-e2ed-0c0bbcce3816"
      },
      "execution_count": 13,
      "outputs": [
        {
          "output_type": "stream",
          "name": "stdout",
          "text": [
            "Welcome to the Tower of Hanoi solution generator!\n",
            "What is the name of the left rod? \n",
            "-A\n",
            "What is the name of the middle rod? \n",
            "-B\n",
            "What is the name of the right rod? \n",
            "-C\n",
            "How many disks are there? 3\n",
            "Assuming that the disks are on rod {'A'} , the solution is: \n",
            "Move Disk {1}  from rod  {'A'}  to rod  {'C'}\n",
            "Move Disk {2}  from rod  {'A'}  to rod  {'B'}\n",
            "Move Disk {1}  from rod  {'C'}  to rod  {'B'}\n",
            "Move Disk {3}  from rod  {'A'}  to rod  {'C'}\n",
            "Move Disk {1}  from rod  {'B'}  to rod  {'A'}\n",
            "Move Disk {2}  from rod  {'B'}  to rod  {'C'}\n",
            "Move Disk {1}  from rod  {'A'}  to rod  {'C'}\n"
          ]
        }
      ]
    },
    {
      "cell_type": "markdown",
      "source": [
        "So in the algorithm for the Tower of Hanoi present above, it states that if the number of disks is only 1, then it will directly move from the source rod to the destination rod, otherwise, it will utilize recursion to move the topmost disks by using, n-1, until all of them are on the rightmost rod."
      ],
      "metadata": {
        "id": "NvBcITKyI2Kb"
      }
    }
  ]
}