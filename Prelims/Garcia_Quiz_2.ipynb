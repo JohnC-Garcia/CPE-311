{
  "nbformat": 4,
  "nbformat_minor": 0,
  "metadata": {
    "colab": {
      "provenance": []
    },
    "kernelspec": {
      "name": "python3",
      "display_name": "Python 3"
    },
    "language_info": {
      "name": "python"
    }
  },
  "cells": [
    {
      "cell_type": "markdown",
      "source": [
        "Problem:\n",
        "\n",
        "Making Change. You are given n types of coin denominations of values v(1) < v(2) < ... < v(n) (all integers). Assume v(1) = 1, so you can always make change for any amount of money C. Give an algorithm which makes change for an amount of money C with as few coins as possible. [on problem set 4]"
      ],
      "metadata": {
        "id": "qytKaOYYBWG0"
      }
    },
    {
      "cell_type": "code",
      "execution_count": 14,
      "metadata": {
        "colab": {
          "base_uri": "https://localhost:8080/"
        },
        "id": "fxVkitO6AcOw",
        "outputId": "9c90aed2-b81e-4cc8-a4e8-b2180a90e084"
      },
      "outputs": [
        {
          "output_type": "stream",
          "name": "stdout",
          "text": [
            "Change calculator\n",
            "\n",
            "Amount to pay: 5\n",
            "Amount given: 1\n",
            "You lack  4.0  in payment, please pay again!\n",
            "Change: None\n",
            "1. Quit\n",
            "2. Continue\n",
            "-2\n",
            "Amount to pay: 10\n",
            "Amount given: 50\n",
            "Change: 40.0\n",
            "1. Quit\n",
            "2. Continue\n",
            "-2\n",
            "Amount to pay: 50\n",
            "Amount given: s\n",
            "Please input a number!\n",
            "Amount to pay: 1\n",
            "Amount given: 2\n",
            "Change: 1.0\n",
            "1. Quit\n",
            "2. Continue\n",
            "-1\n",
            "Thank you for using this application!\n"
          ]
        },
        {
          "output_type": "execute_result",
          "data": {
            "text/plain": [
              "<__main__.Change at 0x7b0e1b1f6950>"
            ]
          },
          "metadata": {},
          "execution_count": 14
        }
      ],
      "source": [
        "class Change():\n",
        "  def __init__(self):\n",
        "    print(\"Change calculator\\n\")\n",
        "    while True:\n",
        "      try:\n",
        "        payment = float(input(\"Amount to pay: \"))\n",
        "        bill = float(input(\"Amount given: \"))\n",
        "        print(\"Change:\", Change.makingChange(payment, bill))\n",
        "        x = int(input(\"1. Quit\\n2. Continue\\n-\"))\n",
        "        if x == 1:\n",
        "          print(\"Thank you for using this application!\")\n",
        "          break\n",
        "        elif x == 2:\n",
        "          continue\n",
        "\n",
        "      except ValueError:\n",
        "        print(\"Please input a number!\")\n",
        "\n",
        "  def makingChange(a, b):\n",
        "    if a > b:\n",
        "      print(\"You lack \", a-b, \" in payment, please pay again!\")\n",
        "      return\n",
        "    else:\n",
        "      c = b - a\n",
        "\n",
        "    return c\n",
        "\n",
        "  def coinValues(x, y):\n",
        "    z = x - y\n",
        "    coin = (1, 5, 10, 20)\n",
        "    for amount in z:\n",
        "      return coin\n",
        "\n",
        "\n",
        "Change()"
      ]
    },
    {
      "cell_type": "markdown",
      "source": [
        "In making the code, I utilized bottom-up approach by making the interface for the users first so that it would be easier for me to understand what processes I would need for these interfaces.\n"
      ],
      "metadata": {
        "id": "NFjHFn5pCgiE"
      }
    }
  ]
}