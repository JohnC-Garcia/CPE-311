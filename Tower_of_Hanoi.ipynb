{
  "nbformat": 4,
  "nbformat_minor": 0,
  "metadata": {
    "colab": {
      "provenance": []
    },
    "kernelspec": {
      "name": "python3",
      "display_name": "Python 3"
    },
    "language_info": {
      "name": "python"
    }
  },
  "cells": [
    {
      "cell_type": "code",
      "execution_count": 5,
      "metadata": {
        "colab": {
          "base_uri": "https://localhost:8080/"
        },
        "id": "TjPRL59AHIvO",
        "outputId": "4c82c58e-1d36-4e39-c7fb-77f3cb9978e2"
      },
      "outputs": [
        {
          "output_type": "stream",
          "name": "stdout",
          "text": [
            "Welcome to the Tower of Hanoi solution generator!\n",
            "How many disks are there? 3\n",
            "Move Disk {1}  from  {'A'}  to  {'C'}\n",
            "Move Disk {2}  from  {'A'}  to  {'B'}\n",
            "Move Disk {1}  from  {'C'}  to  {'B'}\n",
            "Move Disk {3}  from  {'A'}  to  {'C'}\n",
            "Move Disk {1}  from  {'B'}  to  {'A'}\n",
            "Move Disk {2}  from  {'B'}  to  {'C'}\n",
            "Move Disk {1}  from  {'A'}  to  {'C'}\n"
          ]
        }
      ],
      "source": [
        "def TOH( n,  Sour, Aux , Des):\n",
        "  if(n==1):\n",
        "    print(f\"Move Disk\", {n} ,\" from \", {Sour} ,\" to \",{Des})\n",
        "  else:\n",
        "    TOH(n-1,Sour,Des,Aux);\n",
        "    print(\"Move Disk\", {n} ,\" from \", {Sour} ,\" to \",{Des})\n",
        "    TOH(n-1,Aux,Sour,Des);\n",
        "\n",
        "Source = \"A\"\n",
        "Auxilliary = \"B\"\n",
        "Destination = \"C\"\n",
        "\n",
        "print(\"Welcome to the Tower of Hanoi solution generator!\")\n",
        "num = int(input(\"How many disks are there? \"))\n",
        "TOH(num, Source, Auxilliary, Destination)"
      ]
    },
    {
      "cell_type": "markdown",
      "source": [],
      "metadata": {
        "id": "NvBcITKyI2Kb"
      }
    }
  ]
}